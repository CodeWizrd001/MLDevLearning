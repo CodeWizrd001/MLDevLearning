{
 "cells": [
  {
   "cell_type": "code",
   "execution_count": 10,
   "id": "3064d5dd-83c7-4775-98a6-e26a38f2a974",
   "metadata": {},
   "outputs": [],
   "source": [
    "import numpy as np\n",
    "import pandas as pd\n",
    "import torch\n",
    "import random \n",
    "import os "
   ]
  },
  {
   "cell_type": "code",
   "execution_count": 21,
   "id": "d98c4d3a-343b-41da-b849-215f0f61f4cb",
   "metadata": {},
   "outputs": [],
   "source": [
    "DATA_DIR = 'data/temp/'"
   ]
  },
  {
   "cell_type": "code",
   "execution_count": 54,
   "id": "c32adc06-8a2b-4a85-9f06-2d449b1ab671",
   "metadata": {},
   "outputs": [],
   "source": [
    "def read_data() :\n",
    "    IDATA_DIR = DATA_DIR + '1/'\n",
    "    DDATA_DIR = DATA_DIR + '0/'\n",
    "\n",
    "    idata = []\n",
    "    ddata = []\n",
    "    \n",
    "    for f in os.listdir(IDATA_DIR):\n",
    "        df = pd.read_csv(IDATA_DIR + f, header=None)\n",
    "        idata.append(df.values)\n",
    "    iLabels = [1 for i in range(len(idata))]\n",
    "\n",
    "    for f in os.listdir(DDATA_DIR):\n",
    "        df = pd.read_csv(DDATA_DIR + f, header=None)\n",
    "        ddata.append(df.values)\n",
    "    dLabels = [0 for i in range(len(ddata))]\n",
    "\n",
    "    data = idata + ddata\n",
    "    labels = iLabels + dLabels\n",
    "\n",
    "    data = np.array(data)\n",
    "    data = data.reshape(data.shape[:2])\n",
    "    labels = np.array(labels)\n",
    "    labels = labels.reshape(len(idata)+len(ddata),1)\n",
    "\n",
    "    return data, labels"
   ]
  },
  {
   "cell_type": "code",
   "execution_count": 55,
   "id": "ac1088b1-312c-4f87-9728-cb6c9cb307a5",
   "metadata": {},
   "outputs": [],
   "source": [
    "d,l = read_data()"
   ]
  },
  {
   "cell_type": "code",
   "execution_count": 57,
   "id": "0211c244-ca5b-4575-b934-aa98f1debf3f",
   "metadata": {},
   "outputs": [
    {
     "data": {
      "text/plain": [
       "(200, 10)"
      ]
     },
     "execution_count": 57,
     "metadata": {},
     "output_type": "execute_result"
    }
   ],
   "source": [
    "d.shape"
   ]
  },
  {
   "cell_type": "code",
   "execution_count": 58,
   "id": "c4bfa91b-53b9-4bd6-a105-2c8474e95256",
   "metadata": {},
   "outputs": [
    {
     "data": {
      "text/plain": [
       "(200, 1)"
      ]
     },
     "execution_count": 58,
     "metadata": {},
     "output_type": "execute_result"
    }
   ],
   "source": [
    "l.shape"
   ]
  },
  {
   "cell_type": "code",
   "execution_count": 59,
   "id": "7ef38fe1-43d8-4644-b80a-4685ec934ab6",
   "metadata": {},
   "outputs": [],
   "source": [
    "class LSTM(torch.nn.Module):\n",
    "    def __init__(self,input_size,hidden_size,output_size):\n",
    "        super(LSTM,self).__init__()\n",
    "        self.hidden_size = hidden_size\n",
    "        self.lstm = torch.nn.LSTM(input_size,hidden_size)\n",
    "        self.linear = torch.nn.Linear(hidden_size,output_size)\n",
    "        self.out = torch.nn.Sigmoid()\n",
    "    def forward(self,x):\n",
    "        x,_ = self.lstm(x)\n",
    "        x = self.linear(x)\n",
    "        x = self.out(x)\n",
    "        return x\n",
    "    def __call__(self,x):\n",
    "        return self.forward(x)"
   ]
  },
  {
   "cell_type": "code",
   "execution_count": 60,
   "id": "806d27a2-4706-413c-bd94-46703d116d06",
   "metadata": {},
   "outputs": [],
   "source": [
    "lstm = LSTM(10,30,1)\n",
    "optimizer = torch.optim.Adam(lstm.parameters(),lr=0.01)"
   ]
  },
  {
   "cell_type": "code",
   "execution_count": 63,
   "id": "32c56e69-9148-48ba-988c-53bff196625d",
   "metadata": {},
   "outputs": [],
   "source": [
    "def train(model:LSTM,optimizer,data,labels,epochs=10) :\n",
    "    model.train()\n",
    "    for epoch in range(1,epochs+1):\n",
    "        x = torch.from_numpy(data).float()\n",
    "        y = torch.from_numpy(labels).float()\n",
    "        output = model(x)\n",
    "        loss = torch.nn.functional.binary_cross_entropy(output,y)\n",
    "        optimizer.zero_grad()\n",
    "        loss.backward()\n",
    "        optimizer.step()\n",
    "        if epoch % 10 == 0:\n",
    "            print(f'[+] Epoch : {epoch:<5d} :::   Loss : {loss.item():<10.5f}')"
   ]
  },
  {
   "cell_type": "code",
   "execution_count": 64,
   "id": "4fda3cfd-8085-4073-bcea-883030562249",
   "metadata": {},
   "outputs": [
    {
     "name": "stdout",
     "output_type": "stream",
     "text": [
      "[+] Epoch : 10    :::   Loss : 0.00095   \n",
      "[+] Epoch : 20    :::   Loss : 0.00083   \n",
      "[+] Epoch : 30    :::   Loss : 0.00075   \n",
      "[+] Epoch : 40    :::   Loss : 0.00069   \n",
      "[+] Epoch : 50    :::   Loss : 0.00063   \n",
      "[+] Epoch : 60    :::   Loss : 0.00058   \n",
      "[+] Epoch : 70    :::   Loss : 0.00054   \n",
      "[+] Epoch : 80    :::   Loss : 0.00050   \n",
      "[+] Epoch : 90    :::   Loss : 0.00046   \n",
      "[+] Epoch : 100   :::   Loss : 0.00043   \n"
     ]
    }
   ],
   "source": [
    "train(lstm,optimizer,d,l,epochs=100)"
   ]
  },
  {
   "cell_type": "code",
   "execution_count": 66,
   "id": "68bc627d-3baf-462d-8e22-3af65074ac8a",
   "metadata": {},
   "outputs": [
    {
     "data": {
      "text/plain": [
       "LSTM(\n",
       "  (lstm): LSTM(10, 30)\n",
       "  (linear): Linear(in_features=30, out_features=1, bias=True)\n",
       "  (out): Sigmoid()\n",
       ")"
      ]
     },
     "execution_count": 66,
     "metadata": {},
     "output_type": "execute_result"
    }
   ],
   "source": [
    "lstm.eval()"
   ]
  },
  {
   "cell_type": "code",
   "execution_count": 85,
   "id": "8b359f04-ac4b-4d8d-a567-1044de13dd29",
   "metadata": {},
   "outputs": [
    {
     "name": "stdout",
     "output_type": "stream",
     "text": [
      "[+] Using Sample 59\n",
      "[+] Data : tensor([[0.0383, 1.1800, 2.0042, 3.1711, 4.0389, 5.1854, 6.0814, 7.1778, 8.1069,\n",
      "         9.0436]])\n",
      "[+] Prediction : 0.99608     :: True : 1.00000   \n"
     ]
    }
   ],
   "source": [
    "# Random Sample\n",
    "\n",
    "sample = random.randint(0,len(d))\n",
    "x = torch.from_numpy(d[sample]).float().unsqueeze(0)\n",
    "y_true = l[sample]\n",
    "y = lstm(x)\n",
    "print(f'[+] Using Sample {sample}')\n",
    "print(f'[+] Data : {x}')\n",
    "print(f'[+] Prediction : {y.item():<10.5f}  :: True : {y_true.item():<10.5f}')"
   ]
  },
  {
   "cell_type": "code",
   "execution_count": 92,
   "id": "0b1ad24a-3c7a-4d9b-87c7-24629b707d1d",
   "metadata": {},
   "outputs": [
    {
     "name": "stdout",
     "output_type": "stream",
     "text": [
      "[+] Using Sample 59\n",
      "[+] Data : tensor([[8., 9., 7., 6., 7., 5., 4., 3., 2., 1.]])\n",
      "[+] Prediction : 0.00197     :: True : 0.00000   \n"
     ]
    }
   ],
   "source": [
    "# Decreasing Sample\n",
    "\n",
    "array = [8,9,7,6,7,5,4,3,2,1]\n",
    "y_true = np.array([0])\n",
    "x = torch.from_numpy(np.array(array)).float().unsqueeze(0)\n",
    "y = lstm(x)\n",
    "print(f'[+] Using Sample {sample}')\n",
    "print(f'[+] Data : {x}')\n",
    "print(f'[+] Prediction : {y.item():<10.5f}  :: True : {y_true.item():<10.5f}')"
   ]
  },
  {
   "cell_type": "code",
   "execution_count": 93,
   "id": "86529797-95d8-4405-a4ed-91543a11cdba",
   "metadata": {},
   "outputs": [
    {
     "name": "stdout",
     "output_type": "stream",
     "text": [
      "[+] Using Sample 59\n",
      "[+] Data : tensor([[1., 1., 2., 2., 3., 4., 4., 4., 5., 5.]])\n",
      "[+] Prediction : 0.98603     :: True : 1.00000   \n"
     ]
    }
   ],
   "source": [
    "# Increasing Sample\n",
    "\n",
    "array = [1,1,2,2,3,4,4,4,5,5]\n",
    "y_true = np.array([1])\n",
    "x = torch.from_numpy(np.array(array)).float().unsqueeze(0)\n",
    "y = lstm(x)\n",
    "print(f'[+] Using Sample {sample}')\n",
    "print(f'[+] Data : {x}')\n",
    "print(f'[+] Prediction : {y.item():<10.5f}  :: True : {y_true.item():<10.5f}')"
   ]
  },
  {
   "cell_type": "code",
   "execution_count": 101,
   "id": "07063305-4493-4706-808a-dd84b6836c19",
   "metadata": {},
   "outputs": [
    {
     "name": "stdout",
     "output_type": "stream",
     "text": [
      "[+] Using Sample 59\n",
      "[+] Data : tensor([[1., 1., 1., 1., 1., 1., 1., 1., 1., 1.]])\n",
      "[+] Prediction : 0.28460     :: True : 1.00000   \n"
     ]
    }
   ],
   "source": [
    "# Neutral Sample\n",
    "\n",
    "array = np.ones(10)*1\n",
    "y_true = np.array([1])\n",
    "x = torch.from_numpy(np.array(array)).float().unsqueeze(0)\n",
    "y = lstm(x)\n",
    "print(f'[+] Using Sample {sample}')\n",
    "print(f'[+] Data : {x}')\n",
    "print(f'[+] Prediction : {y.item():<10.5f}  :: True : {y_true.item():<10.5f}')"
   ]
  },
  {
   "cell_type": "code",
   "execution_count": null,
   "id": "f2edcac1-8ba6-4c47-a668-49a91d238945",
   "metadata": {},
   "outputs": [],
   "source": []
  }
 ],
 "metadata": {
  "kernelspec": {
   "display_name": "Python 3 (ipykernel)",
   "language": "python",
   "name": "python3"
  },
  "language_info": {
   "codemirror_mode": {
    "name": "ipython",
    "version": 3
   },
   "file_extension": ".py",
   "mimetype": "text/x-python",
   "name": "python",
   "nbconvert_exporter": "python",
   "pygments_lexer": "ipython3",
   "version": "3.10.4"
  }
 },
 "nbformat": 4,
 "nbformat_minor": 5
}
