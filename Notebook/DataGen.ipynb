{
 "cells": [
  {
   "cell_type": "code",
   "execution_count": 7,
   "id": "a5a415c6-fac4-4a3e-96ba-5cab008e4403",
   "metadata": {},
   "outputs": [],
   "source": [
    "import pandas as pd\n",
    "import numpy as np\n",
    "import random\n",
    "import torch\n",
    "import faker\n",
    "\n",
    "from sklearn.preprocessing import LabelEncoder"
   ]
  },
  {
   "cell_type": "code",
   "execution_count": 6,
   "id": "35dff61e-7600-4bed-8aa1-efa28b93e22d",
   "metadata": {},
   "outputs": [],
   "source": [
    "fake = faker.Faker()"
   ]
  },
  {
   "cell_type": "code",
   "execution_count": 5,
   "id": "609fe85f-b7c7-4b2a-acc3-be610cb68c88",
   "metadata": {},
   "outputs": [],
   "source": [
    "fields = [\n",
    "    'id' ,\n",
    "    'ISBN',\n",
    "    'Name', \n",
    "    'Author',\n",
    "    'Genre',\n",
    "    'Rating',\n",
    "]"
   ]
  },
  {
   "cell_type": "code",
   "execution_count": 13,
   "id": "858bf1df-0197-449c-8b76-28cc9838a007",
   "metadata": {},
   "outputs": [],
   "source": [
    "authors = [\n",
    "    'Stephen King', 'Leo Tolstoy', 'George Orwell', \n",
    "    'Ray Bradbury', 'H. G. Wells', 'Charles Dickens', \n",
    "    'J. M. Barrie', 'Eoin Colfer', 'Shelly McCormick', \n",
    "    'James Joyce', 'William Shakespeare', 'John Doe', \n",
    "    'Mark Twain', 'J K Rowling', 'Kurt Vonnegut', \n",
    "    'J. R. R. Tolkien', 'William Faulkner'\n",
    "]\n",
    "authors = np.array(authors)\n",
    "authorEncoder = LabelEncoder()\n",
    "encAuth = authorEncoder.fit_transform(authors)"
   ]
  },
  {
   "cell_type": "code",
   "execution_count": 14,
   "id": "55b4b4ca-d2f2-43a0-8e62-912941c27ea7",
   "metadata": {},
   "outputs": [],
   "source": [
    "genres = [\n",
    "    'Fantasy', 'Mystery', 'Action', 'Sci-Fi', 'Thriller', \n",
    "    'Science Fiction', 'Comedy', 'Horror', 'Romance', \n",
    "    'Adventure', 'Fiction', 'Drama', 'Western'\n",
    "]\n",
    "genres = np.array(genres)\n",
    "genreEncoder = LabelEncoder()\n",
    "encGenre = genreEncoder.fit_transform(genres)"
   ]
  },
  {
   "cell_type": "code",
   "execution_count": 17,
   "id": "19bbffd4-758f-4eb3-927d-5af396ef52bc",
   "metadata": {},
   "outputs": [],
   "source": [
    "N = 500\n",
    "data = []\n",
    "for i in range(1,N+1) :\n",
    "    row = [i,fake.isbn13(),fake.text(40),random.choice(authors),random.choice(genres),round(random.random()*5,2)]\n",
    "    data.append(row)\n",
    "    \n",
    "data = np.array(data)"
   ]
  },
  {
   "cell_type": "code",
   "execution_count": 37,
   "id": "478dac8f-3cd1-4945-91cd-22b988da98fa",
   "metadata": {},
   "outputs": [
    {
     "data": {
      "text/html": [
       "<div>\n",
       "<style scoped>\n",
       "    .dataframe tbody tr th:only-of-type {\n",
       "        vertical-align: middle;\n",
       "    }\n",
       "\n",
       "    .dataframe tbody tr th {\n",
       "        vertical-align: top;\n",
       "    }\n",
       "\n",
       "    .dataframe thead th {\n",
       "        text-align: right;\n",
       "    }\n",
       "</style>\n",
       "<table border=\"1\" class=\"dataframe\">\n",
       "  <thead>\n",
       "    <tr style=\"text-align: right;\">\n",
       "      <th></th>\n",
       "      <th>id</th>\n",
       "      <th>ISBN</th>\n",
       "      <th>Name</th>\n",
       "      <th>Author</th>\n",
       "      <th>Genre</th>\n",
       "      <th>Rating</th>\n",
       "    </tr>\n",
       "  </thead>\n",
       "  <tbody>\n",
       "    <tr>\n",
       "      <th>0</th>\n",
       "      <td>1</td>\n",
       "      <td>978-0-393-91237-1</td>\n",
       "      <td>Dark really however value.</td>\n",
       "      <td>John Doe</td>\n",
       "      <td>Thriller</td>\n",
       "      <td>0.96</td>\n",
       "    </tr>\n",
       "    <tr>\n",
       "      <th>1</th>\n",
       "      <td>2</td>\n",
       "      <td>978-0-88472-420-9</td>\n",
       "      <td>Region drive Democrat social.</td>\n",
       "      <td>Charles Dickens</td>\n",
       "      <td>Adventure</td>\n",
       "      <td>2.85</td>\n",
       "    </tr>\n",
       "    <tr>\n",
       "      <th>2</th>\n",
       "      <td>3</td>\n",
       "      <td>978-0-907470-79-3</td>\n",
       "      <td>Attorney kind various sister or wait.</td>\n",
       "      <td>Eoin Colfer</td>\n",
       "      <td>Western</td>\n",
       "      <td>2.62</td>\n",
       "    </tr>\n",
       "    <tr>\n",
       "      <th>3</th>\n",
       "      <td>4</td>\n",
       "      <td>978-1-4358-6994-3</td>\n",
       "      <td>Church throw ever.</td>\n",
       "      <td>George Orwell</td>\n",
       "      <td>Fantasy</td>\n",
       "      <td>1.77</td>\n",
       "    </tr>\n",
       "    <tr>\n",
       "      <th>4</th>\n",
       "      <td>5</td>\n",
       "      <td>978-1-4264-3509-6</td>\n",
       "      <td>Large scientist late contain.</td>\n",
       "      <td>William Faulkner</td>\n",
       "      <td>Thriller</td>\n",
       "      <td>1.60</td>\n",
       "    </tr>\n",
       "  </tbody>\n",
       "</table>\n",
       "</div>"
      ],
      "text/plain": [
       "   id               ISBN                                   Name  \\\n",
       "0   1  978-0-393-91237-1             Dark really however value.   \n",
       "1   2  978-0-88472-420-9          Region drive Democrat social.   \n",
       "2   3  978-0-907470-79-3  Attorney kind various sister or wait.   \n",
       "3   4  978-1-4358-6994-3                     Church throw ever.   \n",
       "4   5  978-1-4264-3509-6          Large scientist late contain.   \n",
       "\n",
       "             Author      Genre  Rating  \n",
       "0          John Doe   Thriller    0.96  \n",
       "1   Charles Dickens  Adventure    2.85  \n",
       "2       Eoin Colfer    Western    2.62  \n",
       "3     George Orwell    Fantasy    1.77  \n",
       "4  William Faulkner   Thriller    1.60  "
      ]
     },
     "execution_count": 37,
     "metadata": {},
     "output_type": "execute_result"
    }
   ],
   "source": [
    "dat = pd.DataFrame(data,columns=fields)\n",
    "dat['id'] = np.array(dat['id'],dtype=int)\n",
    "dat['Rating'] = np.array(dat['Rating'],dtype=float)\n",
    "dat.head()"
   ]
  },
  {
   "cell_type": "code",
   "execution_count": 38,
   "id": "bbe32e50-2080-4054-9a58-6e9ab9aeca8c",
   "metadata": {},
   "outputs": [
    {
     "data": {
      "text/html": [
       "<div>\n",
       "<style scoped>\n",
       "    .dataframe tbody tr th:only-of-type {\n",
       "        vertical-align: middle;\n",
       "    }\n",
       "\n",
       "    .dataframe tbody tr th {\n",
       "        vertical-align: top;\n",
       "    }\n",
       "\n",
       "    .dataframe thead th {\n",
       "        text-align: right;\n",
       "    }\n",
       "</style>\n",
       "<table border=\"1\" class=\"dataframe\">\n",
       "  <thead>\n",
       "    <tr style=\"text-align: right;\">\n",
       "      <th></th>\n",
       "      <th>id</th>\n",
       "      <th>ISBN</th>\n",
       "      <th>Name</th>\n",
       "      <th>Author</th>\n",
       "      <th>Genre</th>\n",
       "      <th>Rating</th>\n",
       "    </tr>\n",
       "  </thead>\n",
       "  <tbody>\n",
       "    <tr>\n",
       "      <th>0</th>\n",
       "      <td>1</td>\n",
       "      <td>978-0-393-91237-1</td>\n",
       "      <td>Dark really however value.</td>\n",
       "      <td>8</td>\n",
       "      <td>11</td>\n",
       "      <td>0.96</td>\n",
       "    </tr>\n",
       "    <tr>\n",
       "      <th>1</th>\n",
       "      <td>2</td>\n",
       "      <td>978-0-88472-420-9</td>\n",
       "      <td>Region drive Democrat social.</td>\n",
       "      <td>0</td>\n",
       "      <td>1</td>\n",
       "      <td>2.85</td>\n",
       "    </tr>\n",
       "    <tr>\n",
       "      <th>2</th>\n",
       "      <td>3</td>\n",
       "      <td>978-0-907470-79-3</td>\n",
       "      <td>Attorney kind various sister or wait.</td>\n",
       "      <td>1</td>\n",
       "      <td>12</td>\n",
       "      <td>2.62</td>\n",
       "    </tr>\n",
       "    <tr>\n",
       "      <th>3</th>\n",
       "      <td>4</td>\n",
       "      <td>978-1-4358-6994-3</td>\n",
       "      <td>Church throw ever.</td>\n",
       "      <td>2</td>\n",
       "      <td>4</td>\n",
       "      <td>1.77</td>\n",
       "    </tr>\n",
       "    <tr>\n",
       "      <th>4</th>\n",
       "      <td>5</td>\n",
       "      <td>978-1-4264-3509-6</td>\n",
       "      <td>Large scientist late contain.</td>\n",
       "      <td>15</td>\n",
       "      <td>11</td>\n",
       "      <td>1.60</td>\n",
       "    </tr>\n",
       "  </tbody>\n",
       "</table>\n",
       "</div>"
      ],
      "text/plain": [
       "   id               ISBN                                   Name  Author  \\\n",
       "0   1  978-0-393-91237-1             Dark really however value.       8   \n",
       "1   2  978-0-88472-420-9          Region drive Democrat social.       0   \n",
       "2   3  978-0-907470-79-3  Attorney kind various sister or wait.       1   \n",
       "3   4  978-1-4358-6994-3                     Church throw ever.       2   \n",
       "4   5  978-1-4264-3509-6          Large scientist late contain.      15   \n",
       "\n",
       "   Genre  Rating  \n",
       "0     11    0.96  \n",
       "1      1    2.85  \n",
       "2     12    2.62  \n",
       "3      4    1.77  \n",
       "4     11    1.60  "
      ]
     },
     "execution_count": 38,
     "metadata": {},
     "output_type": "execute_result"
    }
   ],
   "source": [
    "dat['Author'] = authorEncoder.transform(dat['Author'])\n",
    "dat['Genre'] = genreEncoder.transform(dat['Genre'])\n",
    "dat.head()"
   ]
  },
  {
   "cell_type": "code",
   "execution_count": 39,
   "id": "8ac837c8-7c20-4549-9cb6-1d27d82bf697",
   "metadata": {},
   "outputs": [
    {
     "data": {
      "text/html": [
       "<div>\n",
       "<style scoped>\n",
       "    .dataframe tbody tr th:only-of-type {\n",
       "        vertical-align: middle;\n",
       "    }\n",
       "\n",
       "    .dataframe tbody tr th {\n",
       "        vertical-align: top;\n",
       "    }\n",
       "\n",
       "    .dataframe thead th {\n",
       "        text-align: right;\n",
       "    }\n",
       "</style>\n",
       "<table border=\"1\" class=\"dataframe\">\n",
       "  <thead>\n",
       "    <tr style=\"text-align: right;\">\n",
       "      <th></th>\n",
       "      <th>id</th>\n",
       "      <th>Author</th>\n",
       "      <th>Genre</th>\n",
       "      <th>Rating</th>\n",
       "    </tr>\n",
       "  </thead>\n",
       "  <tbody>\n",
       "    <tr>\n",
       "      <th>0</th>\n",
       "      <td>1</td>\n",
       "      <td>8</td>\n",
       "      <td>11</td>\n",
       "      <td>0.96</td>\n",
       "    </tr>\n",
       "    <tr>\n",
       "      <th>1</th>\n",
       "      <td>2</td>\n",
       "      <td>0</td>\n",
       "      <td>1</td>\n",
       "      <td>2.85</td>\n",
       "    </tr>\n",
       "    <tr>\n",
       "      <th>2</th>\n",
       "      <td>3</td>\n",
       "      <td>1</td>\n",
       "      <td>12</td>\n",
       "      <td>2.62</td>\n",
       "    </tr>\n",
       "    <tr>\n",
       "      <th>3</th>\n",
       "      <td>4</td>\n",
       "      <td>2</td>\n",
       "      <td>4</td>\n",
       "      <td>1.77</td>\n",
       "    </tr>\n",
       "    <tr>\n",
       "      <th>4</th>\n",
       "      <td>5</td>\n",
       "      <td>15</td>\n",
       "      <td>11</td>\n",
       "      <td>1.60</td>\n",
       "    </tr>\n",
       "  </tbody>\n",
       "</table>\n",
       "</div>"
      ],
      "text/plain": [
       "   id  Author  Genre  Rating\n",
       "0   1       8     11    0.96\n",
       "1   2       0      1    2.85\n",
       "2   3       1     12    2.62\n",
       "3   4       2      4    1.77\n",
       "4   5      15     11    1.60"
      ]
     },
     "execution_count": 39,
     "metadata": {},
     "output_type": "execute_result"
    }
   ],
   "source": [
    "dat = dat.drop(['ISBN','Name'],axis=1)\n",
    "dat.head()"
   ]
  },
  {
   "cell_type": "code",
   "execution_count": 44,
   "id": "27f1563b-750b-49ba-814c-5ba9c7540e49",
   "metadata": {},
   "outputs": [],
   "source": [
    "dataArray = np.array(dat)"
   ]
  },
  {
   "cell_type": "code",
   "execution_count": 45,
   "id": "7e2be544-aa1d-4186-9f4d-6e6776eb5c5a",
   "metadata": {},
   "outputs": [
    {
     "data": {
      "text/plain": [
       "(500, 4)"
      ]
     },
     "execution_count": 45,
     "metadata": {},
     "output_type": "execute_result"
    }
   ],
   "source": [
    "dataArray.shape"
   ]
  },
  {
   "cell_type": "code",
   "execution_count": 46,
   "id": "23137de2-b5ec-40a3-ae19-ad74a41a689e",
   "metadata": {},
   "outputs": [],
   "source": [
    "SAMPLE_LENGTH = 10\n",
    "\n",
    "def data_gen() :\n",
    "    pass"
   ]
  },
  {
   "cell_type": "code",
   "execution_count": null,
   "id": "4b682686-5321-4ebc-a034-08964d9c7618",
   "metadata": {},
   "outputs": [],
   "source": []
  }
 ],
 "metadata": {
  "kernelspec": {
   "display_name": "Python 3 (ipykernel)",
   "language": "python",
   "name": "python3"
  },
  "language_info": {
   "codemirror_mode": {
    "name": "ipython",
    "version": 3
   },
   "file_extension": ".py",
   "mimetype": "text/x-python",
   "name": "python",
   "nbconvert_exporter": "python",
   "pygments_lexer": "ipython3",
   "version": "3.10.4"
  }
 },
 "nbformat": 4,
 "nbformat_minor": 5
}
