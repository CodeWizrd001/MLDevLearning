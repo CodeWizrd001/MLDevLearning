{
 "cells": [
  {
   "cell_type": "code",
   "execution_count": 6,
   "id": "ed7eebbf-6615-4b1f-8404-8dc4fa992770",
   "metadata": {},
   "outputs": [],
   "source": [
    "import pandas as pd\n",
    "import numpy as np\n",
    "import random\n",
    "import torch\n",
    "\n",
    "from sklearn.preprocessing import LabelEncoder"
   ]
  },
  {
   "cell_type": "code",
   "execution_count": 4,
   "id": "54e5ac7b-873f-477a-ba4a-14de4448927a",
   "metadata": {},
   "outputs": [],
   "source": [
    "DATA_DIR = 'data/book/'\n",
    "DATA_PATH = DATA_DIR + 'dummy.csv'\n",
    "data = pd.read_csv(DATA_PATH,index_col='id')"
   ]
  },
  {
   "cell_type": "code",
   "execution_count": 10,
   "id": "ad625d9c-4f50-48c1-9a36-b3bdaad6893a",
   "metadata": {},
   "outputs": [],
   "source": [
    "authors = data['Author'].unique()\n",
    "# authors = np.array(authors)\n",
    "authorEncoder = LabelEncoder()\n",
    "encAuth = authorEncoder.fit_transform(authors)"
   ]
  },
  {
   "cell_type": "code",
   "execution_count": 11,
   "id": "1c1cd930-15c9-4cff-997c-d2840fbec7c9",
   "metadata": {},
   "outputs": [],
   "source": [
    "genres = data['Genre'].unique()\n",
    "# genres = np.array(genres)\n",
    "genreEncoder = LabelEncoder()\n",
    "encGenre = genreEncoder.fit_transform(genres)"
   ]
  },
  {
   "cell_type": "code",
   "execution_count": 12,
   "id": "b3d86eb8-9f27-4a39-b4a6-b0fe35b2c085",
   "metadata": {},
   "outputs": [],
   "source": [
    "data['Author'] = authorEncoder.transform(data['Author'])\n",
    "data['Genre'] = genreEncoder.transform(data['Genre'])"
   ]
  },
  {
   "cell_type": "code",
   "execution_count": 13,
   "id": "781d72c5-e922-4c53-9143-7232bf34235d",
   "metadata": {},
   "outputs": [
    {
     "data": {
      "text/html": [
       "<div>\n",
       "<style scoped>\n",
       "    .dataframe tbody tr th:only-of-type {\n",
       "        vertical-align: middle;\n",
       "    }\n",
       "\n",
       "    .dataframe tbody tr th {\n",
       "        vertical-align: top;\n",
       "    }\n",
       "\n",
       "    .dataframe thead th {\n",
       "        text-align: right;\n",
       "    }\n",
       "</style>\n",
       "<table border=\"1\" class=\"dataframe\">\n",
       "  <thead>\n",
       "    <tr style=\"text-align: right;\">\n",
       "      <th></th>\n",
       "      <th>ISBN</th>\n",
       "      <th>Name</th>\n",
       "      <th>Author</th>\n",
       "      <th>Genre</th>\n",
       "      <th>Rating</th>\n",
       "    </tr>\n",
       "    <tr>\n",
       "      <th>id</th>\n",
       "      <th></th>\n",
       "      <th></th>\n",
       "      <th></th>\n",
       "      <th></th>\n",
       "      <th></th>\n",
       "    </tr>\n",
       "  </thead>\n",
       "  <tbody>\n",
       "    <tr>\n",
       "      <th>1</th>\n",
       "      <td>978-0-09-106465-5</td>\n",
       "      <td>Notice born film activity loss.</td>\n",
       "      <td>0</td>\n",
       "      <td>12</td>\n",
       "      <td>3.10</td>\n",
       "    </tr>\n",
       "    <tr>\n",
       "      <th>2</th>\n",
       "      <td>978-0-9902181-7-3</td>\n",
       "      <td>Must third of local them public.</td>\n",
       "      <td>11</td>\n",
       "      <td>7</td>\n",
       "      <td>0.62</td>\n",
       "    </tr>\n",
       "    <tr>\n",
       "      <th>3</th>\n",
       "      <td>978-0-593-44538-9</td>\n",
       "      <td>Mind physical before detail.</td>\n",
       "      <td>8</td>\n",
       "      <td>0</td>\n",
       "      <td>3.71</td>\n",
       "    </tr>\n",
       "    <tr>\n",
       "      <th>4</th>\n",
       "      <td>978-0-566-51059-5</td>\n",
       "      <td>On common occur color study.</td>\n",
       "      <td>9</td>\n",
       "      <td>12</td>\n",
       "      <td>2.12</td>\n",
       "    </tr>\n",
       "    <tr>\n",
       "      <th>5</th>\n",
       "      <td>978-1-78090-846-5</td>\n",
       "      <td>Mr trial budget.</td>\n",
       "      <td>2</td>\n",
       "      <td>3</td>\n",
       "      <td>4.42</td>\n",
       "    </tr>\n",
       "  </tbody>\n",
       "</table>\n",
       "</div>"
      ],
      "text/plain": [
       "                 ISBN                              Name  Author  Genre  Rating\n",
       "id                                                                            \n",
       "1   978-0-09-106465-5   Notice born film activity loss.       0     12    3.10\n",
       "2   978-0-9902181-7-3  Must third of local them public.      11      7    0.62\n",
       "3   978-0-593-44538-9      Mind physical before detail.       8      0    3.71\n",
       "4   978-0-566-51059-5      On common occur color study.       9     12    2.12\n",
       "5   978-1-78090-846-5                  Mr trial budget.       2      3    4.42"
      ]
     },
     "execution_count": 13,
     "metadata": {},
     "output_type": "execute_result"
    }
   ],
   "source": [
    "data.head()"
   ]
  },
  {
   "cell_type": "code",
   "execution_count": 15,
   "id": "c6142f39-6f99-4ad5-ab4b-fbd34f75596b",
   "metadata": {},
   "outputs": [],
   "source": [
    "data = data.drop(['ISBN','Name'],axis=1)"
   ]
  },
  {
   "cell_type": "code",
   "execution_count": 16,
   "id": "9694af50-057f-4b7d-8b43-4dfe71ab2dc5",
   "metadata": {},
   "outputs": [
    {
     "data": {
      "text/html": [
       "<div>\n",
       "<style scoped>\n",
       "    .dataframe tbody tr th:only-of-type {\n",
       "        vertical-align: middle;\n",
       "    }\n",
       "\n",
       "    .dataframe tbody tr th {\n",
       "        vertical-align: top;\n",
       "    }\n",
       "\n",
       "    .dataframe thead th {\n",
       "        text-align: right;\n",
       "    }\n",
       "</style>\n",
       "<table border=\"1\" class=\"dataframe\">\n",
       "  <thead>\n",
       "    <tr style=\"text-align: right;\">\n",
       "      <th></th>\n",
       "      <th>Author</th>\n",
       "      <th>Genre</th>\n",
       "      <th>Rating</th>\n",
       "    </tr>\n",
       "    <tr>\n",
       "      <th>id</th>\n",
       "      <th></th>\n",
       "      <th></th>\n",
       "      <th></th>\n",
       "    </tr>\n",
       "  </thead>\n",
       "  <tbody>\n",
       "    <tr>\n",
       "      <th>1</th>\n",
       "      <td>0</td>\n",
       "      <td>12</td>\n",
       "      <td>3.10</td>\n",
       "    </tr>\n",
       "    <tr>\n",
       "      <th>2</th>\n",
       "      <td>11</td>\n",
       "      <td>7</td>\n",
       "      <td>0.62</td>\n",
       "    </tr>\n",
       "    <tr>\n",
       "      <th>3</th>\n",
       "      <td>8</td>\n",
       "      <td>0</td>\n",
       "      <td>3.71</td>\n",
       "    </tr>\n",
       "    <tr>\n",
       "      <th>4</th>\n",
       "      <td>9</td>\n",
       "      <td>12</td>\n",
       "      <td>2.12</td>\n",
       "    </tr>\n",
       "    <tr>\n",
       "      <th>5</th>\n",
       "      <td>2</td>\n",
       "      <td>3</td>\n",
       "      <td>4.42</td>\n",
       "    </tr>\n",
       "  </tbody>\n",
       "</table>\n",
       "</div>"
      ],
      "text/plain": [
       "    Author  Genre  Rating\n",
       "id                       \n",
       "1        0     12    3.10\n",
       "2       11      7    0.62\n",
       "3        8      0    3.71\n",
       "4        9     12    2.12\n",
       "5        2      3    4.42"
      ]
     },
     "execution_count": 16,
     "metadata": {},
     "output_type": "execute_result"
    }
   ],
   "source": [
    "data.head()"
   ]
  },
  {
   "cell_type": "code",
   "execution_count": null,
   "id": "fb3fe637-b88a-4af1-bc87-7089500bcb17",
   "metadata": {},
   "outputs": [],
   "source": [
    "def gen_data(n_samples=10) :\n",
    "    "
   ]
  }
 ],
 "metadata": {
  "kernelspec": {
   "display_name": "Python 3 (ipykernel)",
   "language": "python",
   "name": "python3"
  },
  "language_info": {
   "codemirror_mode": {
    "name": "ipython",
    "version": 3
   },
   "file_extension": ".py",
   "mimetype": "text/x-python",
   "name": "python",
   "nbconvert_exporter": "python",
   "pygments_lexer": "ipython3",
   "version": "3.10.4"
  }
 },
 "nbformat": 4,
 "nbformat_minor": 5
}
